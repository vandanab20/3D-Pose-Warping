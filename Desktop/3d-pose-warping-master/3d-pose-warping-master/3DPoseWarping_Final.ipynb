{
  "nbformat": 4,
  "nbformat_minor": 0,
  "metadata": {
    "colab": {
      "name": "3DPoseWarping_Final.ipynb",
      "provenance": [],
      "collapsed_sections": [],
      "mount_file_id": "1b_5napvV2rt2F2n16VOp7e-luf2cdaMP",
      "authorship_tag": "ABX9TyOXYho4ZKCa9HcqPC0O7HpK",
      "include_colab_link": true
    },
    "kernelspec": {
      "name": "python3",
      "display_name": "Python 3"
    },
    "language_info": {
      "name": "python"
    }
  },
  "cells": [
    {
      "cell_type": "markdown",
      "metadata": {
        "id": "view-in-github",
        "colab_type": "text"
      },
      "source": [
        "<a href=\"https://colab.research.google.com/github/kaushik3012/3d-pose-warping/blob/master/3DPoseWarping_Final.ipynb\" target=\"_parent\"><img src=\"https://colab.research.google.com/assets/colab-badge.svg\" alt=\"Open In Colab\"/></a>"
      ]
    },
    {
      "cell_type": "markdown",
      "metadata": {
        "id": "us-lXHpfGlyK"
      },
      "source": [
        "# Setup (Mandatory)"
      ]
    },
    {
      "cell_type": "code",
      "metadata": {
        "id": "9rZ_FkiIfJNv",
        "cellView": "form"
      },
      "source": [
        "#@title Initial Setup\n",
        "\n",
        "# Change to Tensorflow 1.x\n",
        "%tensorflow_version 1.x\n",
        "\n",
        "# Load the Tensorboard notebook Extension\n",
        "%load_ext tensorboard\n",
        "\n",
        "# Clone from our project Repository\n",
        "!git clone https://github.com/kaushik3012/3d-pose-warping.git\n",
        "\n",
        "# Downloading Dataset and trained model\n",
        "!mkdir setup-files\n",
        "%cd setup-files/\n",
        "!wget -q --show-progress --load-cookies /tmp/cookies.txt \"https://docs.google.com/uc?export=download&confirm=$(wget --quiet --save-cookies /tmp/cookies.txt --keep-session-cookies --no-check-certificate 'https://docs.google.com/uc?export=download&id=0B7EVK8r0v71pS2YxRE1QTFZzekU' -O- | sed -rn 's/.*confirm=([0-9A-Za-z_]+).*/\\1\\n/p')&id=0B7EVK8r0v71pS2YxRE1QTFZzekU\" -O img.zip && rm -rf /tmp/cookies.txt\n",
        "!wget https://omnomnom.vision.rwth-aachen.de/data/warp3d_reposing/pose3d_minimal/checkpoint.zip\n",
        "%cd ..\n",
        "\n",
        "source_dir = '/content/setup-files'\n",
        "\n",
        "#unzip the dataset in gdrive to local machine\n",
        "!unzip $source_dir/img.zip -d /content/3d-pose-warping/data/fashion3d\n",
        "\n",
        "# Changing the folder name to images\n",
        "!mv /content/3d-pose-warping/data/fashion3d/img /content/3d-pose-warping/data/fashion3d/images\n",
        "\n",
        "# Copy the pretrained checkpoint for pose estimator to our project\n",
        "!mkdir /content/3d-pose-warping/pose3d_minimal/checkpoint\n",
        "!unzip $source_dir/checkpoint.zip -d /content/3d-pose-warping/pose3d_minimal/checkpoint\n",
        "\n",
        "%cd 3d-pose-warping\n",
        "\n",
        "from google.colab.patches import cv2_imshow\n",
        "import cv2"
      ],
      "execution_count": null,
      "outputs": []
    },
    {
      "cell_type": "code",
      "metadata": {
        "id": "1ABAkVPfTGRa",
        "cellView": "form"
      },
      "source": [
        "#@title Downloading and Setting up Trained model\n",
        "\n",
        "!wget -P /content/setup-files https://omnomnom.vision.rwth-aachen.de/data/warp3d_reposing/checkpoints/fash-3d_w-3d_p.zip\n",
        "\n",
        "!mkdir checkpoints\n",
        "!unzip $source_dir/fash-3d_w-3d_p.zip -d checkpoints/fash-3d_w-3d_p\n",
        "\n",
        "# Checking the checkpoint directory\n",
        "!ls checkpoints/fash-3d_w-3d_p"
      ],
      "execution_count": null,
      "outputs": []
    },
    {
      "cell_type": "markdown",
      "metadata": {
        "id": "cBxlFmS9HUOJ"
      },
      "source": [
        "#Testing our Trained Model"
      ]
    },
    {
      "cell_type": "code",
      "metadata": {
        "id": "vBnSxyZFvwU5"
      },
      "source": [
        "# Run the Test file\n",
        "!python3 test.py"
      ],
      "execution_count": null,
      "outputs": []
    },
    {
      "cell_type": "markdown",
      "metadata": {
        "id": "5j9nvQiBWUww"
      },
      "source": [
        "Display the output produced by model"
      ]
    },
    {
      "cell_type": "code",
      "metadata": {
        "id": "lAPxJuZlR48a"
      },
      "source": [
        "res = cv2.imread('/content/3d-pose-warping/output/res.png')\n",
        "res_with_mask = cv2.imread('/content/3d-pose-warping/output/res_with_mask.png')"
      ],
      "execution_count": null,
      "outputs": []
    },
    {
      "cell_type": "code",
      "metadata": {
        "id": "7ws_F2kBRwiu"
      },
      "source": [
        "cv2_imshow(res)"
      ],
      "execution_count": null,
      "outputs": []
    },
    {
      "cell_type": "code",
      "metadata": {
        "id": "dcnR8_Z0SUjk"
      },
      "source": [
        "cv2_imshow(res_with_mask)"
      ],
      "execution_count": null,
      "outputs": []
    },
    {
      "cell_type": "markdown",
      "metadata": {
        "id": "PcMZRfDNY9Fj"
      },
      "source": [
        "#####Testing the model with input image and target image of same person (as required for evaluation purpose)"
      ]
    },
    {
      "cell_type": "code",
      "metadata": {
        "id": "i4xpT9mQyd61"
      },
      "source": [
        "#Test using images of same person\n",
        "!python3 test.py profile 0"
      ],
      "execution_count": null,
      "outputs": []
    },
    {
      "cell_type": "markdown",
      "metadata": {
        "id": "TYnXJh0rWcAN"
      },
      "source": [
        "Display the output produced by model"
      ]
    },
    {
      "cell_type": "code",
      "metadata": {
        "id": "llM7ZtfWS6R6"
      },
      "source": [
        "res = cv2.imread('/content/3d-pose-warping/output/res.png')\n",
        "res_with_mask = cv2.imread('/content/3d-pose-warping/output/res_with_mask.png')"
      ],
      "execution_count": null,
      "outputs": []
    },
    {
      "cell_type": "code",
      "metadata": {
        "id": "c6_K19_fS6R-"
      },
      "source": [
        "cv2_imshow(res)"
      ],
      "execution_count": null,
      "outputs": []
    },
    {
      "cell_type": "code",
      "metadata": {
        "id": "yf2QVD6KS6R_"
      },
      "source": [
        "cv2_imshow(res_with_mask)"
      ],
      "execution_count": null,
      "outputs": []
    },
    {
      "cell_type": "markdown",
      "metadata": {
        "id": "I80GvcTJ3BbU"
      },
      "source": [
        "###Visualising Results using TensorBoard"
      ]
    },
    {
      "cell_type": "code",
      "metadata": {
        "id": "WefPRdCXsT6z"
      },
      "source": [
        "# Load TensorBoard Events from TB directory\n",
        "from parameters import params\n",
        "tb_dir = params['tb_dir']\n",
        "%tensorboard --logdir $tb_dir"
      ],
      "execution_count": null,
      "outputs": []
    }
  ]
}